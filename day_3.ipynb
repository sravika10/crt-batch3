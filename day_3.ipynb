{
  "nbformat": 4,
  "nbformat_minor": 0,
  "metadata": {
    "colab": {
      "name": "day 3",
      "provenance": [],
      "collapsed_sections": []
    },
    "kernelspec": {
      "name": "python3",
      "display_name": "Python 3"
    }
  },
  "cells": [
    {
      "cell_type": "code",
      "metadata": {
        "id": "d5FnZPDm_pW7",
        "colab_type": "code",
        "colab": {}
      },
      "source": [
        ""
      ],
      "execution_count": 0,
      "outputs": []
    },
    {
      "cell_type": "markdown",
      "metadata": {
        "id": "G58bZxc1co9B",
        "colab_type": "text"
      },
      "source": [
        "# functions:\n",
        "## simple\n",
        "### code reusability\n",
        "\n",
        "\n",
        "#syntax:\n",
        "#### -def FunctionName(arguments):\n",
        "#### -stmnts\n",
        "#### -return"
      ]
    },
    {
      "cell_type": "code",
      "metadata": {
        "id": "4qS6DI8hdIxn",
        "colab_type": "code",
        "colab": {
          "base_uri": "https://localhost:8080/",
          "height": 34
        },
        "outputId": "dc6e44a0-c6af-42c1-da5a-5b46bb3a2de4"
      },
      "source": [
        "# input 1234\n",
        "# output 6(2+4)\n",
        "def EvenSum(n):\n",
        "  s=0\n",
        "  while n!=0:\n",
        "     r=n%10\n",
        "     if r%2==0:\n",
        "        s=s+r\n",
        "     n=n//10\n",
        "  print(s)\n",
        "\n",
        "EvenSum(1234)"
      ],
      "execution_count": 9,
      "outputs": [
        {
          "output_type": "stream",
          "text": [
            "6\n"
          ],
          "name": "stdout"
        }
      ]
    },
    {
      "cell_type": "code",
      "metadata": {
        "id": "X01hq73mf10a",
        "colab_type": "code",
        "colab": {
          "base_uri": "https://localhost:8080/",
          "height": 128
        },
        "outputId": "4c3a493f-b3a3-4125-ae6a-932bf2912a01"
      },
      "source": [
        "# input:19135\n",
        "# output:(9 largest of all nums)\n",
        "def LargeNumber(n)\n",
        "large=0\n",
        "while n!=0:\n",
        "  r=n%10\n",
        "  if large<r:\n",
        "    large=r\n",
        "    n=n//10\n",
        "    return large\n",
        "    l=LargeNumber(19135)\n",
        "    l\n"
      ],
      "execution_count": 10,
      "outputs": [
        {
          "output_type": "error",
          "ename": "SyntaxError",
          "evalue": "ignored",
          "traceback": [
            "\u001b[0;36m  File \u001b[0;32m\"<ipython-input-10-9dbc6d9c8728>\"\u001b[0;36m, line \u001b[0;32m1\u001b[0m\n\u001b[0;31m    def LargeNumber(n)\u001b[0m\n\u001b[0m                      ^\u001b[0m\n\u001b[0;31mSyntaxError\u001b[0m\u001b[0;31m:\u001b[0m invalid syntax\n"
          ]
        }
      ]
    },
    {
      "cell_type": "markdown",
      "metadata": {
        "id": "8W-JjOEBjtuw",
        "colab_type": "text"
      },
      "source": [
        "## ***difference between return and print is ***\n",
        "#### **return:is executed once we assign a value to the function.**\n",
        "#### **print:when we dont assign a value and execute the function directly.**"
      ]
    },
    {
      "cell_type": "markdown",
      "metadata": {
        "id": "0IuDFeaciziX",
        "colab_type": "text"
      },
      "source": [
        "## strong num:145=1!+4!+5!"
      ]
    },
    {
      "cell_type": "markdown",
      "metadata": {
        "id": "XLHxl-iBi_2c",
        "colab_type": "text"
      },
      "source": [
        "#Collection types:\n",
        "#1.list\n",
        "#2.tuple\n",
        "#3.set\n",
        "#4.dictionary\n",
        "\n",
        "\n",
        "\n",
        "### list:\n",
        "## -one of the datastructures available in python.\n",
        "## -list is always enclosed in []\n",
        "## -elements ina list are separated by comma(,)\n",
        "\n",
        "\n"
      ]
    },
    {
      "cell_type": "code",
      "metadata": {
        "id": "O9BZbiXgkgvO",
        "colab_type": "code",
        "colab": {
          "base_uri": "https://localhost:8080/",
          "height": 50
        },
        "outputId": "14e045a9-62fc-42c9-e282-4ec87f16e232"
      },
      "source": [
        "list1 = [1,1.2,\"abc\"]\n",
        "print(list1)\n",
        "type(list1)"
      ],
      "execution_count": 11,
      "outputs": [
        {
          "output_type": "stream",
          "text": [
            "[1, 1.2, 'abc']\n"
          ],
          "name": "stdout"
        },
        {
          "output_type": "execute_result",
          "data": {
            "text/plain": [
              "list"
            ]
          },
          "metadata": {
            "tags": []
          },
          "execution_count": 11
        }
      ]
    },
    {
      "cell_type": "code",
      "metadata": {
        "id": "K_LRlu7Bkzd9",
        "colab_type": "code",
        "colab": {
          "base_uri": "https://localhost:8080/",
          "height": 101
        },
        "outputId": "6b9efdf1-4021-4223-dadd-ce80d42f9361"
      },
      "source": [
        "l=[1,5,6,3,2]\n",
        "print(l[0])\n",
        "print(l[1])\n",
        "print(l[2])\n",
        "print(l[3])\n",
        "print(l[4])"
      ],
      "execution_count": 12,
      "outputs": [
        {
          "output_type": "stream",
          "text": [
            "1\n",
            "5\n",
            "6\n",
            "3\n",
            "2\n"
          ],
          "name": "stdout"
        }
      ]
    },
    {
      "cell_type": "code",
      "metadata": {
        "id": "RYkZbRuSlbhD",
        "colab_type": "code",
        "colab": {
          "base_uri": "https://localhost:8080/",
          "height": 101
        },
        "outputId": "8a5c17e5-716f-4417-e3e0-08a19f16c0a8"
      },
      "source": [
        "l=[1,5,6,3,2]\n",
        "print(l[-1])\n",
        "print(l[-2])\n",
        "print(l[-3])\n",
        "print(l[-4])\n",
        "print(l[-5])"
      ],
      "execution_count": 13,
      "outputs": [
        {
          "output_type": "stream",
          "text": [
            "2\n",
            "3\n",
            "6\n",
            "5\n",
            "1\n"
          ],
          "name": "stdout"
        }
      ]
    },
    {
      "cell_type": "code",
      "metadata": {
        "id": "E14D7lQIlv6C",
        "colab_type": "code",
        "colab": {
          "base_uri": "https://localhost:8080/",
          "height": 185
        },
        "outputId": "5fa86db9-2f3d-4cb3-a604-3716ba41fed6"
      },
      "source": [
        "l=[1,5,6,3,2]\n",
        "print(-4)\n",
        "print(l[2:4])\n",
        "print(l[0:3])\n",
        "print(l[0:4:2])\n",
        "print(l[0:-2])\n",
        "print(l[-1:])\n",
        "print(l[:3])\n",
        "print(l[-3:])\n",
        "print(l[::3])\n",
        "print(l[::2])"
      ],
      "execution_count": 28,
      "outputs": [
        {
          "output_type": "stream",
          "text": [
            "-4\n",
            "[6, 3]\n",
            "[1, 5, 6]\n",
            "[1, 6]\n",
            "[1, 5, 6]\n",
            "[2]\n",
            "[1, 5, 6]\n",
            "[6, 3, 2]\n",
            "[1, 3]\n",
            "[1, 6, 2]\n"
          ],
          "name": "stdout"
        }
      ]
    },
    {
      "cell_type": "markdown",
      "metadata": {
        "id": "ZjZt-tHhpl5G",
        "colab_type": "text"
      },
      "source": [
        "# basic functions of list:\n",
        "l=[1,5,6,3,2]\n",
        "print(max(l))\n",
        "print(min(l))"
      ]
    },
    {
      "cell_type": "code",
      "metadata": {
        "id": "mNfG09-PpgO6",
        "colab_type": "code",
        "colab": {
          "base_uri": "https://localhost:8080/",
          "height": 101
        },
        "outputId": "70de9eed-aa7d-4b69-abc9-c09506d4b70e"
      },
      "source": [
        "## basic functionc of a list\n",
        "l=[1,5,6,3,2]\n",
        "print(max(l))\n",
        "print(min(l))\n",
        "print(sum(l))\n",
        "print(len(l))#length of the list\n",
        "print(sum(l)/len(l))# returns the avg of the list\n"
      ],
      "execution_count": 34,
      "outputs": [
        {
          "output_type": "stream",
          "text": [
            "6\n",
            "1\n",
            "17\n",
            "5\n",
            "3.4\n"
          ],
          "name": "stdout"
        }
      ]
    },
    {
      "cell_type": "code",
      "metadata": {
        "id": "L1g7dOeFq6L3",
        "colab_type": "code",
        "colab": {
          "base_uri": "https://localhost:8080/",
          "height": 34
        },
        "outputId": "33644d39-d815-4ee7-c4e1-11997dc877ea"
      },
      "source": [
        "l=[1,5,6,3,2]\n",
        "l[0]=\"python\"\n",
        "l\n",
        "l[3]=\"gitam\"\n",
        "l\n",
        "del l[3]# to delete the element of a list\n",
        "l"
      ],
      "execution_count": 49,
      "outputs": [
        {
          "output_type": "execute_result",
          "data": {
            "text/plain": [
              "['python', 5, 6, 2]"
            ]
          },
          "metadata": {
            "tags": []
          },
          "execution_count": 49
        }
      ]
    },
    {
      "cell_type": "code",
      "metadata": {
        "id": "BcIwF0sFtnmX",
        "colab_type": "code",
        "colab": {
          "base_uri": "https://localhost:8080/",
          "height": 67
        },
        "outputId": "22ad5023-0f09-4beb-ba6c-270a9bea948c"
      },
      "source": [
        "# basic list operations:\n",
        "l=[1,5,6,3,2]\n",
        "print(l*2)# repitition operation of the duplicate list\n",
        "# to check if certain value is present in the list:\n",
        "print(2 in l)# membership operator\n",
        "print(9 in l)\n"
      ],
      "execution_count": 54,
      "outputs": [
        {
          "output_type": "stream",
          "text": [
            "[1, 5, 6, 3, 2, 1, 5, 6, 3, 2]\n",
            "True\n",
            "False\n"
          ],
          "name": "stdout"
        }
      ]
    },
    {
      "cell_type": "code",
      "metadata": {
        "id": "y8F1HE4Ku0xZ",
        "colab_type": "code",
        "colab": {
          "base_uri": "https://localhost:8080/",
          "height": 118
        },
        "outputId": "218b0b4f-739c-4bea-f4c2-13e992491a92"
      },
      "source": [
        "# to access element through iteration\n",
        "print(l)\n",
        "for i in l:\n",
        "  print(i)"
      ],
      "execution_count": 55,
      "outputs": [
        {
          "output_type": "stream",
          "text": [
            "[1, 5, 6, 3, 2]\n",
            "1\n",
            "5\n",
            "6\n",
            "3\n",
            "2\n"
          ],
          "name": "stdout"
        }
      ]
    },
    {
      "cell_type": "code",
      "metadata": {
        "id": "UWQLgdUavKro",
        "colab_type": "code",
        "colab": {
          "base_uri": "https://localhost:8080/",
          "height": 84
        },
        "outputId": "2f3365f3-74e4-48db-fd43-063fa99e1083"
      },
      "source": [
        "for i in [10,2,23,24]:\n",
        "  print(i) \n"
      ],
      "execution_count": 62,
      "outputs": [
        {
          "output_type": "stream",
          "text": [
            "10\n",
            "2\n",
            "23\n",
            "24\n"
          ],
          "name": "stdout"
        }
      ]
    },
    {
      "cell_type": "code",
      "metadata": {
        "id": "E7T4KhFlwBHA",
        "colab_type": "code",
        "colab": {
          "base_uri": "https://localhost:8080/",
          "height": 118
        },
        "outputId": "47144717-af90-44cc-d8dd-5568d3d3b927"
      },
      "source": [
        "print(l) \n",
        "\n",
        "for i in range(len(l)):\n",
        "  print(l[i])"
      ],
      "execution_count": 67,
      "outputs": [
        {
          "output_type": "stream",
          "text": [
            "[1, 5, 6, 3, 2]\n",
            "1\n",
            "5\n",
            "6\n",
            "3\n",
            "2\n"
          ],
          "name": "stdout"
        }
      ]
    },
    {
      "cell_type": "code",
      "metadata": {
        "id": "VKCpdHnwwqXV",
        "colab_type": "code",
        "colab": {
          "base_uri": "https://localhost:8080/",
          "height": 34
        },
        "outputId": "7bdc128f-0d18-449b-9460-eae94c95128c"
      },
      "source": [
        "# list methods:\n",
        "l=[2,5,7,1]\n",
        "print(l)"
      ],
      "execution_count": 68,
      "outputs": [
        {
          "output_type": "stream",
          "text": [
            "[2, 5, 7, 1]\n"
          ],
          "name": "stdout"
        }
      ]
    },
    {
      "cell_type": "code",
      "metadata": {
        "id": "xNhBljSZw8zo",
        "colab_type": "code",
        "colab": {
          "base_uri": "https://localhost:8080/",
          "height": 34
        },
        "outputId": "9cf283a4-af8f-43eb-d6c9-6db9f7e8c595"
      },
      "source": [
        "l.append('python')#adds the element to the end of the list\n",
        "l"
      ],
      "execution_count": 69,
      "outputs": [
        {
          "output_type": "execute_result",
          "data": {
            "text/plain": [
              "[2, 5, 7, 1, 'python']"
            ]
          },
          "metadata": {
            "tags": []
          },
          "execution_count": 69
        }
      ]
    },
    {
      "cell_type": "code",
      "metadata": {
        "id": "91hdY0QPxMFg",
        "colab_type": "code",
        "colab": {
          "base_uri": "https://localhost:8080/",
          "height": 34
        },
        "outputId": "1c107ab1-cb55-4c8f-ac9a-6bd4a9c6ae58"
      },
      "source": [
        "l.insert(1,\"gitam\")\n",
        "l"
      ],
      "execution_count": 70,
      "outputs": [
        {
          "output_type": "execute_result",
          "data": {
            "text/plain": [
              "[2, 'gitam', 5, 7, 1, 'python']"
            ]
          },
          "metadata": {
            "tags": []
          },
          "execution_count": 70
        }
      ]
    },
    {
      "cell_type": "code",
      "metadata": {
        "id": "QnLH4dUCxyJD",
        "colab_type": "code",
        "colab": {
          "base_uri": "https://localhost:8080/",
          "height": 34
        },
        "outputId": "b1b1f94b-a95a-446c-b1e7-f452bd7bcf22"
      },
      "source": [
        "l.count(2)# counts the ocurence of a number"
      ],
      "execution_count": 71,
      "outputs": [
        {
          "output_type": "execute_result",
          "data": {
            "text/plain": [
              "1"
            ]
          },
          "metadata": {
            "tags": []
          },
          "execution_count": 71
        }
      ]
    },
    {
      "cell_type": "code",
      "metadata": {
        "id": "DFrwt5CzyEFu",
        "colab_type": "code",
        "colab": {
          "base_uri": "https://localhost:8080/",
          "height": 50
        },
        "outputId": "2ac2ca46-de44-429a-8e55-f8614197aa21"
      },
      "source": [
        "print(1)\n",
        "l.index('gitam')"
      ],
      "execution_count": 74,
      "outputs": [
        {
          "output_type": "stream",
          "text": [
            "1\n"
          ],
          "name": "stdout"
        },
        {
          "output_type": "execute_result",
          "data": {
            "text/plain": [
              "1"
            ]
          },
          "metadata": {
            "tags": []
          },
          "execution_count": 74
        }
      ]
    },
    {
      "cell_type": "code",
      "metadata": {
        "id": "VqFoc_GtyeEE",
        "colab_type": "code",
        "colab": {
          "base_uri": "https://localhost:8080/",
          "height": 34
        },
        "outputId": "a7e0fa68-a23b-49b1-9623-b0ac8de90847"
      },
      "source": [
        "l.pop()\n",
        "l"
      ],
      "execution_count": 75,
      "outputs": [
        {
          "output_type": "execute_result",
          "data": {
            "text/plain": [
              "[2, 'gitam', 5, 7, 1]"
            ]
          },
          "metadata": {
            "tags": []
          },
          "execution_count": 75
        }
      ]
    },
    {
      "cell_type": "code",
      "metadata": {
        "id": "WWkRtLgoyyAp",
        "colab_type": "code",
        "colab": {
          "base_uri": "https://localhost:8080/",
          "height": 67
        },
        "outputId": "5d26a652-305b-4b9c-ec6b-476f499a9dbd"
      },
      "source": [
        "print(l)\n",
        "li=[\"abc\",\"gitam\"]\n",
        "print(li)\n",
        "l.extend(li)#to concatenate the two lists\n",
        "l"
      ],
      "execution_count": 77,
      "outputs": [
        {
          "output_type": "stream",
          "text": [
            "[2, 'gitam', 5, 7, 1, 'abc', 'gitam']\n",
            "['abc', 'gitam']\n"
          ],
          "name": "stdout"
        },
        {
          "output_type": "execute_result",
          "data": {
            "text/plain": [
              "[2, 'gitam', 5, 7, 1, 'abc', 'gitam', 'abc', 'gitam']"
            ]
          },
          "metadata": {
            "tags": []
          },
          "execution_count": 77
        }
      ]
    },
    {
      "cell_type": "code",
      "metadata": {
        "id": "GHrNUbQFzLau",
        "colab_type": "code",
        "colab": {
          "base_uri": "https://localhost:8080/",
          "height": 50
        },
        "outputId": "20517364-0f29-497c-f8cc-dca4b6cd49e8"
      },
      "source": [
        "l=[3,78,235,23,45]\n",
        "print(l)\n",
        "l.sort()#to print in the ascending order\n",
        "print(l)"
      ],
      "execution_count": 78,
      "outputs": [
        {
          "output_type": "stream",
          "text": [
            "[3, 78, 235, 23, 45]\n",
            "[3, 23, 45, 78, 235]\n"
          ],
          "name": "stdout"
        }
      ]
    },
    {
      "cell_type": "code",
      "metadata": {
        "id": "pXh-tEZUz1K0",
        "colab_type": "code",
        "colab": {
          "base_uri": "https://localhost:8080/",
          "height": 34
        },
        "outputId": "2d4b0106-df61-4f05-ef0b-ea82f478cde6"
      },
      "source": [
        "l.reverse()#each time we run it retirns the reverse order of the list. \n",
        "print(l)\n"
      ],
      "execution_count": 85,
      "outputs": [
        {
          "output_type": "stream",
          "text": [
            "[235, 78, 45, 23, 3]\n"
          ],
          "name": "stdout"
        }
      ]
    },
    {
      "cell_type": "code",
      "metadata": {
        "id": "O78dQED30dcd",
        "colab_type": "code",
        "colab": {
          "base_uri": "https://localhost:8080/",
          "height": 34
        },
        "outputId": "7113c724-ff38-49c1-e43a-7fc4bca1cb05"
      },
      "source": [
        "#function to print the biggest number\n",
        "\n",
        "def FunBiggest(l):\n",
        "  l.sort()\n",
        "  return l[-1]\n",
        "list1=[2,34,123,34,54,3,345]\n",
        "FunBiggest(list1)"
      ],
      "execution_count": 91,
      "outputs": [
        {
          "output_type": "execute_result",
          "data": {
            "text/plain": [
              "345"
            ]
          },
          "metadata": {
            "tags": []
          },
          "execution_count": 91
        }
      ]
    },
    {
      "cell_type": "markdown",
      "metadata": {
        "id": "AX-lLX9U3MoD",
        "colab_type": "text"
      },
      "source": [
        "##tuple\n",
        "###tuples r enclosed in paranthesis.\n",
        "#### tuples r innutable i.e.,elements inside  tuple cannot be changed or deleted.\n",
        "####modifications r not possible in tuple.\n",
        "####tuples r used only to access the data.\n",
        "\n",
        "#Differences between list and tuples:\n",
        "##-List---->[] ,Tuples----->()\n",
        "##-List is mutable(changes can be made),tuple is immutable(no changes can be made)\n",
        "##-"
      ]
    },
    {
      "cell_type": "code",
      "metadata": {
        "id": "UaWOU0L55G6j",
        "colab_type": "code",
        "colab": {
          "base_uri": "https://localhost:8080/",
          "height": 50
        },
        "outputId": "9619f232-0784-4933-f117-80a590a37438"
      },
      "source": [
        "t1=(1,6.45,\"python\")\n",
        "print(t1)\n",
        "print(type(t1))"
      ],
      "execution_count": 92,
      "outputs": [
        {
          "output_type": "stream",
          "text": [
            "(1, 6.45, 'python')\n",
            "<class 'tuple'>\n"
          ],
          "name": "stdout"
        }
      ]
    },
    {
      "cell_type": "code",
      "metadata": {
        "id": "ynFpk8IM5YNA",
        "colab_type": "code",
        "colab": {
          "base_uri": "https://localhost:8080/",
          "height": 34
        },
        "outputId": "175e4fea-a76a-4448-a63e-509e40b6cbb3"
      },
      "source": [
        "t1[0]"
      ],
      "execution_count": 93,
      "outputs": [
        {
          "output_type": "execute_result",
          "data": {
            "text/plain": [
              "1"
            ]
          },
          "metadata": {
            "tags": []
          },
          "execution_count": 93
        }
      ]
    },
    {
      "cell_type": "code",
      "metadata": {
        "id": "efgkeG685ds6",
        "colab_type": "code",
        "colab": {
          "base_uri": "https://localhost:8080/",
          "height": 34
        },
        "outputId": "d6f96199-bf3a-4aea-b444-ddba4122a3cc"
      },
      "source": [
        "t1[0:3]"
      ],
      "execution_count": 95,
      "outputs": [
        {
          "output_type": "execute_result",
          "data": {
            "text/plain": [
              "(1, 6.45, 'python')"
            ]
          },
          "metadata": {
            "tags": []
          },
          "execution_count": 95
        }
      ]
    },
    {
      "cell_type": "code",
      "metadata": {
        "id": "ql8CxyW46sgl",
        "colab_type": "code",
        "colab": {
          "base_uri": "https://localhost:8080/",
          "height": 1000
        },
        "outputId": "fba5ce58-3eab-4843-b47b-e5602821b5af"
      },
      "source": [
        "help('tuple')    #info about tuples"
      ],
      "execution_count": 96,
      "outputs": [
        {
          "output_type": "stream",
          "text": [
            "Help on class tuple in module builtins:\n",
            "\n",
            "class tuple(object)\n",
            " |  tuple() -> empty tuple\n",
            " |  tuple(iterable) -> tuple initialized from iterable's items\n",
            " |  \n",
            " |  If the argument is a tuple, the return value is the same object.\n",
            " |  \n",
            " |  Methods defined here:\n",
            " |  \n",
            " |  __add__(self, value, /)\n",
            " |      Return self+value.\n",
            " |  \n",
            " |  __contains__(self, key, /)\n",
            " |      Return key in self.\n",
            " |  \n",
            " |  __eq__(self, value, /)\n",
            " |      Return self==value.\n",
            " |  \n",
            " |  __ge__(self, value, /)\n",
            " |      Return self>=value.\n",
            " |  \n",
            " |  __getattribute__(self, name, /)\n",
            " |      Return getattr(self, name).\n",
            " |  \n",
            " |  __getitem__(self, key, /)\n",
            " |      Return self[key].\n",
            " |  \n",
            " |  __getnewargs__(...)\n",
            " |  \n",
            " |  __gt__(self, value, /)\n",
            " |      Return self>value.\n",
            " |  \n",
            " |  __hash__(self, /)\n",
            " |      Return hash(self).\n",
            " |  \n",
            " |  __iter__(self, /)\n",
            " |      Implement iter(self).\n",
            " |  \n",
            " |  __le__(self, value, /)\n",
            " |      Return self<=value.\n",
            " |  \n",
            " |  __len__(self, /)\n",
            " |      Return len(self).\n",
            " |  \n",
            " |  __lt__(self, value, /)\n",
            " |      Return self<value.\n",
            " |  \n",
            " |  __mul__(self, value, /)\n",
            " |      Return self*value.\n",
            " |  \n",
            " |  __ne__(self, value, /)\n",
            " |      Return self!=value.\n",
            " |  \n",
            " |  __new__(*args, **kwargs) from builtins.type\n",
            " |      Create and return a new object.  See help(type) for accurate signature.\n",
            " |  \n",
            " |  __repr__(self, /)\n",
            " |      Return repr(self).\n",
            " |  \n",
            " |  __rmul__(self, value, /)\n",
            " |      Return value*self.\n",
            " |  \n",
            " |  count(...)\n",
            " |      T.count(value) -> integer -- return number of occurrences of value\n",
            " |  \n",
            " |  index(...)\n",
            " |      T.index(value, [start, [stop]]) -> integer -- return first index of value.\n",
            " |      Raises ValueError if the value is not present.\n",
            "\n"
          ],
          "name": "stdout"
        }
      ]
    },
    {
      "cell_type": "code",
      "metadata": {
        "id": "fg__lklZ8J7h",
        "colab_type": "code",
        "colab": {}
      },
      "source": [
        ""
      ],
      "execution_count": 0,
      "outputs": []
    },
    {
      "cell_type": "markdown",
      "metadata": {
        "id": "k2jbFvFE8Kgk",
        "colab_type": "text"
      },
      "source": [
        "#dictionary\n",
        "##enclosed in{}.\n",
        "##consists of key  value pairs.\n",
        "##each key is separated to its value by colon(:).\n",
        "##each key value pair is separated by a comma(,).\n",
        "## keys must be unique while creating any dictionary. "
      ]
    },
    {
      "cell_type": "code",
      "metadata": {
        "id": "yS1F5H2k83Mx",
        "colab_type": "code",
        "colab": {
          "base_uri": "https://localhost:8080/",
          "height": 50
        },
        "outputId": "cbcf641f-3408-4756-e3ee-9a0cdabdd735"
      },
      "source": [
        "d1={'name':'gitam','emailid':'gitam@gmail','address':\"hyd\"}\n",
        "print(d1)\n",
        "print(type(d1))\n"
      ],
      "execution_count": 97,
      "outputs": [
        {
          "output_type": "stream",
          "text": [
            "{'name': 'gitam', 'emailid': 'gitam@gmail', 'address': 'hyd'}\n",
            "<class 'dict'>\n"
          ],
          "name": "stdout"
        }
      ]
    },
    {
      "cell_type": "code",
      "metadata": {
        "id": "h1etYzqu9Zdn",
        "colab_type": "code",
        "colab": {
          "base_uri": "https://localhost:8080/",
          "height": 34
        },
        "outputId": "75b69a9c-c7e7-4895-b279-489e5e98015f"
      },
      "source": [
        "d1['name']"
      ],
      "execution_count": 99,
      "outputs": [
        {
          "output_type": "execute_result",
          "data": {
            "text/plain": [
              "'gitam'"
            ]
          },
          "metadata": {
            "tags": []
          },
          "execution_count": 99
        }
      ]
    },
    {
      "cell_type": "code",
      "metadata": {
        "id": "uGS5aniF-Wv4",
        "colab_type": "code",
        "colab": {
          "base_uri": "https://localhost:8080/",
          "height": 34
        },
        "outputId": "19a53890-53ba-4399-8f5e-ad25dbec0304"
      },
      "source": [
        "d1['emailid']='python@gmail.com'\n",
        "d1\n"
      ],
      "execution_count": 100,
      "outputs": [
        {
          "output_type": "execute_result",
          "data": {
            "text/plain": [
              "{'address': 'hyd', 'emailid': 'python@gmail.com', 'name': 'gitam'}"
            ]
          },
          "metadata": {
            "tags": []
          },
          "execution_count": 100
        }
      ]
    },
    {
      "cell_type": "code",
      "metadata": {
        "id": "iUfd3yI_-0Tw",
        "colab_type": "code",
        "colab": {
          "base_uri": "https://localhost:8080/",
          "height": 84
        },
        "outputId": "6eb2ec82-6868-446b-9ea7-9f924c576166"
      },
      "source": [
        "d1['course']='python'\n",
        "d1"
      ],
      "execution_count": 107,
      "outputs": [
        {
          "output_type": "execute_result",
          "data": {
            "text/plain": [
              "{'address': 'hyd',\n",
              " 'course': 'python',\n",
              " 'emailid': 'python@gmail.com',\n",
              " 'name': 'gitam'}"
            ]
          },
          "metadata": {
            "tags": []
          },
          "execution_count": 107
        }
      ]
    },
    {
      "cell_type": "code",
      "metadata": {
        "id": "rJHFIHsO_G7W",
        "colab_type": "code",
        "colab": {}
      },
      "source": [
        "del d1['course']"
      ],
      "execution_count": 0,
      "outputs": []
    },
    {
      "cell_type": "code",
      "metadata": {
        "id": "zHnii3mmADPP",
        "colab_type": "code",
        "colab": {
          "base_uri": "https://localhost:8080/",
          "height": 1000
        },
        "outputId": "0287cd60-e6a9-4262-f12e-8ca89b7f9d57"
      },
      "source": [
        "help(dict)"
      ],
      "execution_count": 109,
      "outputs": [
        {
          "output_type": "stream",
          "text": [
            "Help on class dict in module builtins:\n",
            "\n",
            "class dict(object)\n",
            " |  dict() -> new empty dictionary\n",
            " |  dict(mapping) -> new dictionary initialized from a mapping object's\n",
            " |      (key, value) pairs\n",
            " |  dict(iterable) -> new dictionary initialized as if via:\n",
            " |      d = {}\n",
            " |      for k, v in iterable:\n",
            " |          d[k] = v\n",
            " |  dict(**kwargs) -> new dictionary initialized with the name=value pairs\n",
            " |      in the keyword argument list.  For example:  dict(one=1, two=2)\n",
            " |  \n",
            " |  Methods defined here:\n",
            " |  \n",
            " |  __contains__(self, key, /)\n",
            " |      True if D has a key k, else False.\n",
            " |  \n",
            " |  __delitem__(self, key, /)\n",
            " |      Delete self[key].\n",
            " |  \n",
            " |  __eq__(self, value, /)\n",
            " |      Return self==value.\n",
            " |  \n",
            " |  __ge__(self, value, /)\n",
            " |      Return self>=value.\n",
            " |  \n",
            " |  __getattribute__(self, name, /)\n",
            " |      Return getattr(self, name).\n",
            " |  \n",
            " |  __getitem__(...)\n",
            " |      x.__getitem__(y) <==> x[y]\n",
            " |  \n",
            " |  __gt__(self, value, /)\n",
            " |      Return self>value.\n",
            " |  \n",
            " |  __init__(self, /, *args, **kwargs)\n",
            " |      Initialize self.  See help(type(self)) for accurate signature.\n",
            " |  \n",
            " |  __iter__(self, /)\n",
            " |      Implement iter(self).\n",
            " |  \n",
            " |  __le__(self, value, /)\n",
            " |      Return self<=value.\n",
            " |  \n",
            " |  __len__(self, /)\n",
            " |      Return len(self).\n",
            " |  \n",
            " |  __lt__(self, value, /)\n",
            " |      Return self<value.\n",
            " |  \n",
            " |  __ne__(self, value, /)\n",
            " |      Return self!=value.\n",
            " |  \n",
            " |  __new__(*args, **kwargs) from builtins.type\n",
            " |      Create and return a new object.  See help(type) for accurate signature.\n",
            " |  \n",
            " |  __repr__(self, /)\n",
            " |      Return repr(self).\n",
            " |  \n",
            " |  __setitem__(self, key, value, /)\n",
            " |      Set self[key] to value.\n",
            " |  \n",
            " |  __sizeof__(...)\n",
            " |      D.__sizeof__() -> size of D in memory, in bytes\n",
            " |  \n",
            " |  clear(...)\n",
            " |      D.clear() -> None.  Remove all items from D.\n",
            " |  \n",
            " |  copy(...)\n",
            " |      D.copy() -> a shallow copy of D\n",
            " |  \n",
            " |  fromkeys(iterable, value=None, /) from builtins.type\n",
            " |      Returns a new dict with keys from iterable and values equal to value.\n",
            " |  \n",
            " |  get(...)\n",
            " |      D.get(k[,d]) -> D[k] if k in D, else d.  d defaults to None.\n",
            " |  \n",
            " |  items(...)\n",
            " |      D.items() -> a set-like object providing a view on D's items\n",
            " |  \n",
            " |  keys(...)\n",
            " |      D.keys() -> a set-like object providing a view on D's keys\n",
            " |  \n",
            " |  pop(...)\n",
            " |      D.pop(k[,d]) -> v, remove specified key and return the corresponding value.\n",
            " |      If key is not found, d is returned if given, otherwise KeyError is raised\n",
            " |  \n",
            " |  popitem(...)\n",
            " |      D.popitem() -> (k, v), remove and return some (key, value) pair as a\n",
            " |      2-tuple; but raise KeyError if D is empty.\n",
            " |  \n",
            " |  setdefault(...)\n",
            " |      D.setdefault(k[,d]) -> D.get(k,d), also set D[k]=d if k not in D\n",
            " |  \n",
            " |  update(...)\n",
            " |      D.update([E, ]**F) -> None.  Update D from dict/iterable E and F.\n",
            " |      If E is present and has a .keys() method, then does:  for k in E: D[k] = E[k]\n",
            " |      If E is present and lacks a .keys() method, then does:  for k, v in E: D[k] = v\n",
            " |      In either case, this is followed by: for k in F:  D[k] = F[k]\n",
            " |  \n",
            " |  values(...)\n",
            " |      D.values() -> an object providing a view on D's values\n",
            " |  \n",
            " |  ----------------------------------------------------------------------\n",
            " |  Data and other attributes defined here:\n",
            " |  \n",
            " |  __hash__ = None\n",
            "\n"
          ],
          "name": "stdout"
        }
      ]
    },
    {
      "cell_type": "code",
      "metadata": {
        "id": "OHF920eWAWk3",
        "colab_type": "code",
        "colab": {
          "base_uri": "https://localhost:8080/",
          "height": 34
        },
        "outputId": "05a4d912-34b6-4aac-b84e-06b492264769"
      },
      "source": [
        "d1.keys() #returns keys only\n",
        "d1"
      ],
      "execution_count": 110,
      "outputs": [
        {
          "output_type": "execute_result",
          "data": {
            "text/plain": [
              "{'address': 'hyd', 'emailid': 'python@gmail.com', 'name': 'gitam'}"
            ]
          },
          "metadata": {
            "tags": []
          },
          "execution_count": 110
        }
      ]
    },
    {
      "cell_type": "code",
      "metadata": {
        "id": "F6FMgKx2AjsU",
        "colab_type": "code",
        "colab": {
          "base_uri": "https://localhost:8080/",
          "height": 162
        },
        "outputId": "9602bd23-225d-4f5d-9cae-d137b35b8448"
      },
      "source": [
        "d1_keys(['name','emailid','address'])"
      ],
      "execution_count": 112,
      "outputs": [
        {
          "output_type": "error",
          "ename": "NameError",
          "evalue": "ignored",
          "traceback": [
            "\u001b[0;31m---------------------------------------------------------------------------\u001b[0m",
            "\u001b[0;31mNameError\u001b[0m                                 Traceback (most recent call last)",
            "\u001b[0;32m<ipython-input-112-3a2dc248a508>\u001b[0m in \u001b[0;36m<module>\u001b[0;34m()\u001b[0m\n\u001b[0;32m----> 1\u001b[0;31m \u001b[0md1_keys\u001b[0m\u001b[0;34m(\u001b[0m\u001b[0;34m[\u001b[0m\u001b[0;34m'name'\u001b[0m\u001b[0;34m,\u001b[0m\u001b[0;34m'emailid'\u001b[0m\u001b[0;34m,\u001b[0m\u001b[0;34m'address'\u001b[0m\u001b[0;34m]\u001b[0m\u001b[0;34m)\u001b[0m\u001b[0;34m\u001b[0m\u001b[0;34m\u001b[0m\u001b[0m\n\u001b[0m",
            "\u001b[0;31mNameError\u001b[0m: name 'd1_keys' is not defined"
          ]
        }
      ]
    },
    {
      "cell_type": "code",
      "metadata": {
        "id": "L-URvcp2A8rN",
        "colab_type": "code",
        "colab": {}
      },
      "source": [
        ""
      ],
      "execution_count": 0,
      "outputs": []
    },
    {
      "cell_type": "markdown",
      "metadata": {
        "id": "XI0uSbaeA-Oz",
        "colab_type": "text"
      },
      "source": [
        "#strings"
      ]
    },
    {
      "cell_type": "code",
      "metadata": {
        "id": "N9ZiuMgrBDXR",
        "colab_type": "code",
        "colab": {
          "base_uri": "https://localhost:8080/",
          "height": 118
        },
        "outputId": "7b5a0c48-0f7c-469b-a18d-2788b1fcbd20"
      },
      "source": [
        "s='python'\n",
        "print(s[0])\n",
        "print(s[0:4])\n",
        "print(s[0:5:2])\n",
        "print(s[0:-4])\n",
        "print(s[::2])\n",
        "print(s[::-1])#can be used in the case of palindrome"
      ],
      "execution_count": 113,
      "outputs": [
        {
          "output_type": "stream",
          "text": [
            "p\n",
            "pyth\n",
            "pto\n",
            "py\n",
            "pto\n",
            "nohtyp\n"
          ],
          "name": "stdout"
        }
      ]
    },
    {
      "cell_type": "code",
      "metadata": {
        "id": "rXH_PY8sCOer",
        "colab_type": "code",
        "colab": {
          "base_uri": "https://localhost:8080/",
          "height": 34
        },
        "outputId": "5f7a6bc2-51b0-4d0b-b899-19ebbb991005"
      },
      "source": [
        "#function to check the pallindrome of a string\n",
        "def PalindromeFun(s):\n",
        "  if s==s[::-1]:\n",
        "      print(\"palindrome\")\n",
        "  else:\n",
        "      print(\"not a palindrome\")\n",
        "\n",
        "PalindromeFun(\"sahas\")"
      ],
      "execution_count": 118,
      "outputs": [
        {
          "output_type": "stream",
          "text": [
            "palindrome\n"
          ],
          "name": "stdout"
        }
      ]
    },
    {
      "cell_type": "markdown",
      "metadata": {
        "id": "RTE8ACCbEJVw",
        "colab_type": "text"
      },
      "source": [
        "#string methods\n",
        "####join():id\\s a methpod to concatenate two strings\n"
      ]
    },
    {
      "cell_type": "code",
      "metadata": {
        "id": "9xMjwtJCEYGR",
        "colab_type": "code",
        "colab": {
          "base_uri": "https://localhost:8080/",
          "height": 84
        },
        "outputId": "e867cfe5-12f0-458c-f96e-913138ee1916"
      },
      "source": [
        "#split\n",
        "s\n",
        "print(\" \".join(s))\n",
        "s1=\"pythonprogramming\"\n",
        "print(\",\".join(s1))\n",
        "s3='python programmig is easy to learn'\n",
        "print(s3.split())#split displays the word in the form of a list.\n",
        "print(s3.split('a'))"
      ],
      "execution_count": 119,
      "outputs": [
        {
          "output_type": "stream",
          "text": [
            "p y t h o n\n",
            "p,y,t,h,o,n,p,r,o,g,r,a,m,m,i,n,g\n",
            "['python', 'programmig', 'is', 'easy', 'to', 'learn']\n",
            "['python progr', 'mmig is e', 'sy to le', 'rn']\n"
          ],
          "name": "stdout"
        }
      ]
    },
    {
      "cell_type": "code",
      "metadata": {
        "id": "ZTOoYEmrEE8E",
        "colab_type": "code",
        "colab": {
          "base_uri": "https://localhost:8080/",
          "height": 34
        },
        "outputId": "c9a6ce29-5144-4533-9b93-67df63c46bc0"
      },
      "source": [
        "#replace\n",
        "s3\n",
        "print(s3.replace(\"programming\",\"application\"))\n",
        "\n",
        "\n"
      ],
      "execution_count": 120,
      "outputs": [
        {
          "output_type": "stream",
          "text": [
            "python programmig is easy to learn\n"
          ],
          "name": "stdout"
        }
      ]
    }
  ]
}