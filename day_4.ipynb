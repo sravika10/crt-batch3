{
  "nbformat": 4,
  "nbformat_minor": 0,
  "metadata": {
    "colab": {
      "name": "day 4",
      "provenance": [],
      "collapsed_sections": [],
      "include_colab_link": true
    },
    "kernelspec": {
      "name": "python3",
      "display_name": "Python 3"
    }
  },
  "cells": [
    {
      "cell_type": "markdown",
      "metadata": {
        "id": "view-in-github",
        "colab_type": "text"
      },
      "source": [
        "<a href=\"https://colab.research.google.com/github/sravika10/crt-batch3/blob/master/day_4.ipynb\" target=\"_parent\"><img src=\"https://colab.research.google.com/assets/colab-badge.svg\" alt=\"Open In Colab\"/></a>"
      ]
    },
    {
      "cell_type": "code",
      "metadata": {
        "id": "vMdBBvvVmeCJ",
        "colab_type": "code",
        "colab": {
          "base_uri": "https://localhost:8080/",
          "height": 52
        },
        "outputId": "c685909c-5a7f-4c63-f96e-a09d7df64fd1"
      },
      "source": [
        "s=\"Python\"\n",
        "print(s.upper())\n",
        "print(s.lower())\n"
      ],
      "execution_count": 1,
      "outputs": [
        {
          "output_type": "stream",
          "text": [
            "PYTHON\n",
            "python\n"
          ],
          "name": "stdout"
        }
      ]
    },
    {
      "cell_type": "code",
      "metadata": {
        "id": "xtAK2OBlmw2K",
        "colab_type": "code",
        "colab": {
          "base_uri": "https://localhost:8080/",
          "height": 69
        },
        "outputId": "6a6e7738-5925-4c2a-9b4b-094f805c9fc2"
      },
      "source": [
        "# string boolean methods:\n",
        "print(s)\n",
        "print(s.islower())\n",
        "print(s.isupper())"
      ],
      "execution_count": 4,
      "outputs": [
        {
          "output_type": "stream",
          "text": [
            "Python\n",
            "False\n",
            "False\n"
          ],
          "name": "stdout"
        }
      ]
    },
    {
      "cell_type": "code",
      "metadata": {
        "id": "RuLfdw0GnSP0",
        "colab_type": "code",
        "colab": {
          "base_uri": "https://localhost:8080/",
          "height": 52
        },
        "outputId": "7c0c6222-f122-41d4-e87f-b2d6e8f860f5"
      },
      "source": [
        "#istitle------first letter of any word must be in caps only then it is considered as a title:\n",
        "s1 = \"Python Programming\"\n",
        "s2 = \"python programming\"\n",
        "print(s1.istitle())\n",
        "print(s2.istitle())"
      ],
      "execution_count": 6,
      "outputs": [
        {
          "output_type": "stream",
          "text": [
            "True\n",
            "False\n"
          ],
          "name": "stdout"
        }
      ]
    },
    {
      "cell_type": "code",
      "metadata": {
        "id": "Zh-AXDXUn8lv",
        "colab_type": "code",
        "colab": {
          "base_uri": "https://localhost:8080/",
          "height": 52
        },
        "outputId": "c5db5f83-523c-482a-dd8b-8c0ca455d6db"
      },
      "source": [
        "#isnumeric:\n",
        "s3=\"py123\"\n",
        "s4=\"122324\"\n",
        "print(s3.isnumeric())\n",
        "print(s4.isnumeric())\n"
      ],
      "execution_count": 8,
      "outputs": [
        {
          "output_type": "stream",
          "text": [
            "False\n",
            "True\n"
          ],
          "name": "stdout"
        }
      ]
    },
    {
      "cell_type": "code",
      "metadata": {
        "id": "9rv-XIf-ob6r",
        "colab_type": "code",
        "colab": {
          "base_uri": "https://localhost:8080/",
          "height": 52
        },
        "outputId": "87e5cf90-8970-4338-d8fd-e1f6b6e2ce03"
      },
      "source": [
        "#isalpha\n",
        "s=\"Python\"\n",
        "s1=\"Pyt1274\"\n",
        "print(s.isalpha())\n",
        "print(s1.isalpha())"
      ],
      "execution_count": 9,
      "outputs": [
        {
          "output_type": "stream",
          "text": [
            "True\n",
            "False\n"
          ],
          "name": "stdout"
        }
      ]
    },
    {
      "cell_type": "code",
      "metadata": {
        "id": "RaGwbEvPo4nl",
        "colab_type": "code",
        "colab": {
          "base_uri": "https://localhost:8080/",
          "height": 52
        },
        "outputId": "e2fc6c9a-dc15-4893-feef-9891f98b86f3"
      },
      "source": [
        "#isspace\n",
        "s=\" \"\n",
        "s1=\"p dhs isj h\"\n",
        "print(s.isspace())\n",
        "print(s1.isspace())\n"
      ],
      "execution_count": 12,
      "outputs": [
        {
          "output_type": "stream",
          "text": [
            "True\n",
            "False\n"
          ],
          "name": "stdout"
        }
      ]
    },
    {
      "cell_type": "code",
      "metadata": {
        "id": "jWcx84JYpc5J",
        "colab_type": "code",
        "colab": {
          "base_uri": "https://localhost:8080/",
          "height": 34
        },
        "outputId": "cffbc64f-3c95-4966-8d0a-2489e54d0c98"
      },
      "source": [
        "#function to convert digits in a number list\n",
        "#Input:18976\n",
        "#output:[1,8,9,7,6]\n",
        "def NumberListConversion(n):\n",
        "  li=[]\n",
        "  while n!=0:\n",
        "    r = n%10\n",
        "    li.append(r)\n",
        "    n = n//10\n",
        "  li.reverse()\n",
        "  return li\n",
        "\n",
        "NumberListConversion(18976)"
      ],
      "execution_count": 24,
      "outputs": [
        {
          "output_type": "execute_result",
          "data": {
            "text/plain": [
              "[1, 8, 9, 7, 6]"
            ]
          },
          "metadata": {
            "tags": []
          },
          "execution_count": 24
        }
      ]
    },
    {
      "cell_type": "code",
      "metadata": {
        "id": "H7kNZjJ8qVkJ",
        "colab_type": "code",
        "colab": {
          "base_uri": "https://localhost:8080/",
          "height": 34
        },
        "outputId": "072f1bf4-d2c9-410c-a51f-7d96f749fe0e"
      },
      "source": [
        "# print the factors of the given number\n",
        "def Fact(n):\n",
        "  for i in range(1,n+1):#12\n",
        "    if n%i==0:#12%1==0,12%2==0\n",
        "      print(i,end =\" \")\n",
        "\n",
        "Fact(12)"
      ],
      "execution_count": 28,
      "outputs": [
        {
          "output_type": "stream",
          "text": [
            "1 2 3 4 6 12 "
          ],
          "name": "stdout"
        }
      ]
    },
    {
      "cell_type": "code",
      "metadata": {
        "id": "BYIeHwMEuyq2",
        "colab_type": "code",
        "colab": {
          "base_uri": "https://localhost:8080/",
          "height": 34
        },
        "outputId": "31dd61d7-dc3c-4f03-b87c-2db11771c050"
      },
      "source": [
        "#input:500,520\n",
        "#output:500,502,504,506,508.........520\n",
        "def AlternateSequence(lb,ub):\n",
        " for i in range(lb,ub+2,2):\n",
        "   print(i,end=\" \")\n",
        "AlternateSequence(500,520)"
      ],
      "execution_count": 29,
      "outputs": [
        {
          "output_type": "stream",
          "text": [
            "500 502 504 506 508 510 512 514 516 518 520 "
          ],
          "name": "stdout"
        }
      ]
    },
    {
      "cell_type": "code",
      "metadata": {
        "id": "WfGyHOPPwtiI",
        "colab_type": "code",
        "colab": {
          "base_uri": "https://localhost:8080/",
          "height": 34
        },
        "outputId": "6439a7f3-392a-408f-c4ce-5e194857bcd1"
      },
      "source": [
        "a=13478\n",
        "max(str(a))\n"
      ],
      "execution_count": 32,
      "outputs": [
        {
          "output_type": "execute_result",
          "data": {
            "text/plain": [
              "'8'"
            ]
          },
          "metadata": {
            "tags": []
          },
          "execution_count": 32
        }
      ]
    },
    {
      "cell_type": "code",
      "metadata": {
        "id": "PiiLAWCSxzbs",
        "colab_type": "code",
        "colab": {
          "base_uri": "https://localhost:8080/",
          "height": 34
        },
        "outputId": "25c61fc4-f126-47d7-8c66-4fb689b758b4"
      },
      "source": [
        "\n",
        "d=int(c)\n",
        "d\n"
      ],
      "execution_count": 34,
      "outputs": [
        {
          "output_type": "execute_result",
          "data": {
            "text/plain": [
              "13478"
            ]
          },
          "metadata": {
            "tags": []
          },
          "execution_count": 34
        }
      ]
    },
    {
      "cell_type": "code",
      "metadata": {
        "id": "jX2uQgl1yQHE",
        "colab_type": "code",
        "colab": {
          "base_uri": "https://localhost:8080/",
          "height": 34
        },
        "outputId": "38acf8d5-f270-4847-f8ea-9e0d69ce6eba"
      },
      "source": [
        "#input: s=\"python\"\n",
        "#output:['p','y','t','h','o','n']\n",
        "s=\"python\"\n",
        "list(s)"
      ],
      "execution_count": 35,
      "outputs": [
        {
          "output_type": "execute_result",
          "data": {
            "text/plain": [
              "['p', 'y', 't', 'h', 'o', 'n']"
            ]
          },
          "metadata": {
            "tags": []
          },
          "execution_count": 35
        }
      ]
    },
    {
      "cell_type": "code",
      "metadata": {
        "id": "LYsmnR9ZypfQ",
        "colab_type": "code",
        "colab": {
          "base_uri": "https://localhost:8080/",
          "height": 132
        },
        "outputId": "7684ef12-788d-43fc-cdd7-7cf595bf8ae0"
      },
      "source": [
        "#145:1!+4!+5!=145------->Strong Number\n",
        "def Fact(n):\n",
        "  fact = 1\n",
        "  i = 1\n",
        "  while i<=n:\n",
        "    fact = fact * i\n",
        "    i = i+1\n",
        "  return fact\n",
        "#Fact(5)\n",
        "def FactSum(a)\n",
        "     s=0\n",
        "     buffer = n\n",
        "     while n!=0:\n",
        "       r = n%10\n",
        "       s=s+Fact(r)\n",
        "       n=n//10\n",
        "     return s\n",
        "FactSum(145)"
      ],
      "execution_count": 43,
      "outputs": [
        {
          "output_type": "error",
          "ename": "SyntaxError",
          "evalue": "ignored",
          "traceback": [
            "\u001b[0;36m  File \u001b[0;32m\"<ipython-input-43-14a8b5d1cbeb>\"\u001b[0;36m, line \u001b[0;32m9\u001b[0m\n\u001b[0;31m    def FactSum(a)\u001b[0m\n\u001b[0m                  ^\u001b[0m\n\u001b[0;31mSyntaxError\u001b[0m\u001b[0;31m:\u001b[0m invalid syntax\n"
          ]
        }
      ]
    }
  ]
}