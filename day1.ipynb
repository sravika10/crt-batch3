{
  "nbformat": 4,
  "nbformat_minor": 0,
  "metadata": {
    "colab": {
      "name": "day1",
      "provenance": [],
      "collapsed_sections": []
    },
    "kernelspec": {
      "name": "python3",
      "display_name": "Python 3"
    }
  },
  "cells": [
    {
      "cell_type": "code",
      "metadata": {
        "id": "GTo5i3vYBv9u",
        "colab_type": "code",
        "outputId": "1c5e975f-44e8-44ad-d02e-9d5ed1b5b870",
        "colab": {
          "base_uri": "https://localhost:8080/",
          "height": 34
        }
      },
      "source": [
        "print(\"hloo world\")"
      ],
      "execution_count": 0,
      "outputs": [
        {
          "output_type": "stream",
          "text": [
            "hloo world\n"
          ],
          "name": "stdout"
        }
      ]
    },
    {
      "cell_type": "code",
      "metadata": {
        "id": "tRMcj9bfDKQJ",
        "colab_type": "code",
        "colab": {}
      },
      "source": [
        "\n"
      ],
      "execution_count": 0,
      "outputs": []
    },
    {
      "cell_type": "markdown",
      "metadata": {
        "id": "_7AedjnoDn6b",
        "colab_type": "text"
      },
      "source": [
        "# python\n",
        "## python\n",
        "######python\n",
        "#### python\n",
        "####### #\n",
        "###### ##\n"
      ]
    },
    {
      "cell_type": "code",
      "metadata": {
        "id": "7M3_Ke3QFH1W",
        "colab_type": "code",
        "outputId": "5772433e-2bdd-4db3-a667-d7e2de76dca9",
        "colab": {
          "base_uri": "https://localhost:8080/",
          "height": 34
        }
      },
      "source": [
        "print(\"safho\",end=\"@\")\n",
        "print(\"jdfgv\",end=\"\")\n",
        "print(\"owigjf\",end=\" \")"
      ],
      "execution_count": 0,
      "outputs": [
        {
          "output_type": "stream",
          "text": [
            "safho@jdfgvowigjf "
          ],
          "name": "stdout"
        }
      ]
    },
    {
      "cell_type": "code",
      "metadata": {
        "id": "jY6llmvWGebm",
        "colab_type": "code",
        "outputId": "97f67c18-c202-45cc-99ab-9cf58af9e256",
        "colab": {
          "base_uri": "https://localhost:8080/",
          "height": 34
        }
      },
      "source": [
        "a=10\n",
        "a\n",
        "a*10\n",
        "a%10"
      ],
      "execution_count": 0,
      "outputs": [
        {
          "output_type": "execute_result",
          "data": {
            "text/plain": [
              "0"
            ]
          },
          "metadata": {
            "tags": []
          },
          "execution_count": 74
        }
      ]
    },
    {
      "cell_type": "code",
      "metadata": {
        "id": "FCkCb8ifIeQ-",
        "colab_type": "code",
        "outputId": "beefa7cc-aff8-470c-b5c2-e5cfc9d3e85b",
        "colab": {
          "base_uri": "https://localhost:8080/",
          "height": 34
        }
      },
      "source": [
        "b=20\n",
        "a+b"
      ],
      "execution_count": 0,
      "outputs": [
        {
          "output_type": "execute_result",
          "data": {
            "text/plain": [
              "30"
            ]
          },
          "metadata": {
            "tags": []
          },
          "execution_count": 75
        }
      ]
    },
    {
      "cell_type": "code",
      "metadata": {
        "id": "shdJSBxnLpkY",
        "colab_type": "code",
        "outputId": "a0fc799a-e4f8-438b-f9e6-5c921016a1e1",
        "colab": {
          "base_uri": "https://localhost:8080/",
          "height": 50
        }
      },
      "source": [
        "input()\n"
      ],
      "execution_count": 0,
      "outputs": [
        {
          "output_type": "stream",
          "text": [
            "65\n"
          ],
          "name": "stdout"
        },
        {
          "output_type": "execute_result",
          "data": {
            "text/plain": [
              "'65'"
            ]
          },
          "metadata": {
            "tags": []
          },
          "execution_count": 76
        }
      ]
    },
    {
      "cell_type": "code",
      "metadata": {
        "id": "dj0Jmr6pLv0i",
        "colab_type": "code",
        "outputId": "f812d0ca-319b-413f-8b6e-d6ad0e3db66b",
        "colab": {
          "base_uri": "https://localhost:8080/",
          "height": 67
        }
      },
      "source": [
        "a=input()\n",
        "print(a)\n",
        "type(a)\n"
      ],
      "execution_count": 0,
      "outputs": [
        {
          "output_type": "stream",
          "text": [
            "34565\n",
            "34565\n"
          ],
          "name": "stdout"
        },
        {
          "output_type": "execute_result",
          "data": {
            "text/plain": [
              "str"
            ]
          },
          "metadata": {
            "tags": []
          },
          "execution_count": 77
        }
      ]
    },
    {
      "cell_type": "code",
      "metadata": {
        "id": "1REI1oZWIuTV",
        "colab_type": "code",
        "outputId": "feb3e80d-dfe9-4eb4-ee18-96a858711380",
        "colab": {
          "base_uri": "https://localhost:8080/",
          "height": 34
        }
      },
      "source": [
        "name=\"gitam\"\n",
        "ad=\"hyd\"\n",
        "print(\"un nam \",name,\"place\",ad)"
      ],
      "execution_count": 0,
      "outputs": [
        {
          "output_type": "stream",
          "text": [
            "un nam  gitam place hyd\n"
          ],
          "name": "stdout"
        }
      ]
    },
    {
      "cell_type": "code",
      "metadata": {
        "id": "yG9HSZnnMJaB",
        "colab_type": "code",
        "colab": {}
      },
      "source": [
        "a=input(\"enter the course name \")\n",
        "b=int(input(\"enetr ur baatch\"))\n",
        "print(a,b)\n",
        "print()"
      ],
      "execution_count": 0,
      "outputs": []
    },
    {
      "cell_type": "markdown",
      "metadata": {
        "id": "xG2rNuLQNP-A",
        "colab_type": "text"
      },
      "source": [
        "#fundamental types\n",
        "###1.int\n",
        "###2.float\n",
        "###3.complex\n",
        "###4.boolean\n",
        "###5.string\n"
      ]
    },
    {
      "cell_type": "code",
      "metadata": {
        "id": "RHKpI89INxMD",
        "colab_type": "code",
        "outputId": "6884efc0-9c82-47ba-b5aa-e99061dbd9a3",
        "colab": {
          "base_uri": "https://localhost:8080/",
          "height": 34
        }
      },
      "source": [
        "x=10\n",
        "y=13.5\n",
        "z=3+6j\n",
        "print(type(x),type(y),type(z))\n"
      ],
      "execution_count": 0,
      "outputs": [
        {
          "output_type": "stream",
          "text": [
            "<class 'int'> <class 'float'> <class 'complex'>\n"
          ],
          "name": "stdout"
        }
      ]
    },
    {
      "cell_type": "code",
      "metadata": {
        "id": "Ahxvk9sLOMtQ",
        "colab_type": "code",
        "outputId": "fb75d407-9bea-4b29-ef38-d121a49fff2b",
        "colab": {
          "base_uri": "https://localhost:8080/",
          "height": 34
        }
      },
      "source": [
        "x+y"
      ],
      "execution_count": 0,
      "outputs": [
        {
          "output_type": "execute_result",
          "data": {
            "text/plain": [
              "23.5"
            ]
          },
          "metadata": {
            "tags": []
          },
          "execution_count": 80
        }
      ]
    },
    {
      "cell_type": "code",
      "metadata": {
        "id": "b5qmQe5IOTXm",
        "colab_type": "code",
        "outputId": "dddbd96a-6f69-4fca-e801-c216830bb878",
        "colab": {
          "base_uri": "https://localhost:8080/",
          "height": 34
        }
      },
      "source": [
        "a=complex(y)\n",
        "a\n"
      ],
      "execution_count": 0,
      "outputs": [
        {
          "output_type": "execute_result",
          "data": {
            "text/plain": [
              "(13.5+0j)"
            ]
          },
          "metadata": {
            "tags": []
          },
          "execution_count": 84
        }
      ]
    },
    {
      "cell_type": "code",
      "metadata": {
        "id": "Tf6RZgE4OvOk",
        "colab_type": "code",
        "outputId": "e70e3f7f-cfeb-4480-c92c-253d84686ef8",
        "colab": {
          "base_uri": "https://localhost:8080/",
          "height": 34
        }
      },
      "source": [
        "y+z"
      ],
      "execution_count": 0,
      "outputs": [
        {
          "output_type": "execute_result",
          "data": {
            "text/plain": [
              "(16.5+6j)"
            ]
          },
          "metadata": {
            "tags": []
          },
          "execution_count": 85
        }
      ]
    },
    {
      "cell_type": "code",
      "metadata": {
        "id": "AQyiD_IIO0Vn",
        "colab_type": "code",
        "outputId": "199c064a-176f-4d4f-9aef-f944a37c03eb",
        "colab": {
          "base_uri": "https://localhost:8080/",
          "height": 34
        }
      },
      "source": [
        "c=complex(2,4)\n",
        "c"
      ],
      "execution_count": 0,
      "outputs": [
        {
          "output_type": "execute_result",
          "data": {
            "text/plain": [
              "(2+4j)"
            ]
          },
          "metadata": {
            "tags": []
          },
          "execution_count": 86
        }
      ]
    },
    {
      "cell_type": "code",
      "metadata": {
        "id": "_9BCM9JFPtlM",
        "colab_type": "code",
        "colab": {}
      },
      "source": [
        ""
      ],
      "execution_count": 0,
      "outputs": []
    },
    {
      "cell_type": "markdown",
      "metadata": {
        "id": "YcEuXm9yPxlK",
        "colab_type": "text"
      },
      "source": [
        "# boolean\n",
        "## true\n",
        "## false\n"
      ]
    },
    {
      "cell_type": "code",
      "metadata": {
        "id": "Exh3tgIoQGbb",
        "colab_type": "code",
        "outputId": "808ee32e-b4e8-4ba8-af14-222e070fc53a",
        "colab": {
          "base_uri": "https://localhost:8080/",
          "height": 50
        }
      },
      "source": [
        "x=\"a\"\n",
        "y=\"dhfgh\"\n",
        "print(type(x))\n",
        "type(y)\n"
      ],
      "execution_count": 0,
      "outputs": [
        {
          "output_type": "stream",
          "text": [
            "<class 'str'>\n"
          ],
          "name": "stdout"
        },
        {
          "output_type": "execute_result",
          "data": {
            "text/plain": [
              "str"
            ]
          },
          "metadata": {
            "tags": []
          },
          "execution_count": 87
        }
      ]
    },
    {
      "cell_type": "code",
      "metadata": {
        "id": "m6Cg4d3FQkfc",
        "colab_type": "code",
        "outputId": "a4abed1b-7bc8-47c3-8078-a24d61bfae5d",
        "colab": {
          "base_uri": "https://localhost:8080/",
          "height": 34
        }
      },
      "source": [
        "i=100\n",
        "type(i)\n",
        "j=str(i)\n",
        "type(j)\n",
        "k=float(i)\n",
        "print(type(i),type(j))"
      ],
      "execution_count": 0,
      "outputs": [
        {
          "output_type": "stream",
          "text": [
            "<class 'int'> <class 'str'>\n"
          ],
          "name": "stdout"
        }
      ]
    },
    {
      "cell_type": "code",
      "metadata": {
        "id": "yc_URWs1RS7q",
        "colab_type": "code",
        "colab": {}
      },
      "source": [
        ""
      ],
      "execution_count": 0,
      "outputs": []
    },
    {
      "cell_type": "markdown",
      "metadata": {
        "id": "dvKPqQamSoXU",
        "colab_type": "text"
      },
      "source": [
        "#operators in python:\n",
        "##1.arithmetic op\n",
        "###### +,/,*,-,//,%,**\n",
        "##2.logical op\n",
        "###### and,or,not\n",
        "##3.relational op\n",
        "###### >,>=,<,<=,!=\n",
        "##4.membership op\n",
        "###### in & not in\n"
      ]
    },
    {
      "cell_type": "code",
      "metadata": {
        "id": "fzC0dpwSTqnn",
        "colab_type": "code",
        "outputId": "0b2e0a2f-b0f0-40b1-bad9-3df4df247243",
        "colab": {
          "base_uri": "https://localhost:8080/",
          "height": 134
        }
      },
      "source": [
        "x=3\n",
        "y=4\n",
        "print(x+y)\n",
        "print(x-y)\n",
        "print(x*y)\n",
        "print(x/y)\n",
        "print(x%y)\n",
        "print(x//y) #floor division operator\n",
        "print(x**y) #power operator"
      ],
      "execution_count": 0,
      "outputs": [
        {
          "output_type": "stream",
          "text": [
            "7\n",
            "-1\n",
            "12\n",
            "0.75\n",
            "3\n",
            "0\n",
            "81\n"
          ],
          "name": "stdout"
        }
      ]
    },
    {
      "cell_type": "code",
      "metadata": {
        "id": "bnP_OmcaUTjB",
        "colab_type": "code",
        "outputId": "8b963426-12be-4603-bdc8-534f3418fcac",
        "colab": {
          "base_uri": "https://localhost:8080/",
          "height": 84
        }
      },
      "source": [
        "##logical operators\n",
        "a=20\n",
        "b=30\n",
        "print(a>=10 and a<=15)\n",
        "print(b>=10 and b<=40)\n",
        "print(a>=10 and a<=15)\n",
        "print(not a)\n",
        "\n"
      ],
      "execution_count": 0,
      "outputs": [
        {
          "output_type": "stream",
          "text": [
            "False\n",
            "True\n",
            "False\n",
            "False\n"
          ],
          "name": "stdout"
        }
      ]
    },
    {
      "cell_type": "code",
      "metadata": {
        "id": "fUto-m2pY8j3",
        "colab_type": "code",
        "outputId": "48b97b47-a0b5-41dc-f7f9-425b9ede6d04",
        "colab": {
          "base_uri": "https://localhost:8080/",
          "height": 118
        }
      },
      "source": [
        "print(a>b)\n",
        "print(a<b)\n",
        "print(a>=b)\n",
        "print(a<=b)\n",
        "print(a==b)\n",
        "a!=b\n"
      ],
      "execution_count": 0,
      "outputs": [
        {
          "output_type": "stream",
          "text": [
            "False\n",
            "True\n",
            "False\n",
            "True\n",
            "False\n"
          ],
          "name": "stdout"
        },
        {
          "output_type": "execute_result",
          "data": {
            "text/plain": [
              "True"
            ]
          },
          "metadata": {
            "tags": []
          },
          "execution_count": 98
        }
      ]
    },
    {
      "cell_type": "code",
      "metadata": {
        "id": "tMqB5k2SZTWO",
        "colab_type": "code",
        "outputId": "4ce20832-134e-40f5-efa4-2831618f61f4",
        "colab": {
          "base_uri": "https://localhost:8080/",
          "height": 34
        }
      },
      "source": [
        "# membership operator:\n",
        "str1 = 'abc'\n",
        "print(\"c\" in str1)"
      ],
      "execution_count": 0,
      "outputs": [
        {
          "output_type": "stream",
          "text": [
            "True\n"
          ],
          "name": "stdout"
        }
      ]
    },
    {
      "cell_type": "code",
      "metadata": {
        "id": "5EV1HYreaLdG",
        "colab_type": "code",
        "outputId": "95d439cd-8125-4202-fe33-62f798fadf49",
        "colab": {
          "base_uri": "https://localhost:8080/",
          "height": 34
        }
      },
      "source": [
        "str1 = 'abc'\n",
        "print(\"c\" not in str1)"
      ],
      "execution_count": 0,
      "outputs": [
        {
          "output_type": "stream",
          "text": [
            "False\n"
          ],
          "name": "stdout"
        }
      ]
    },
    {
      "cell_type": "markdown",
      "metadata": {
        "id": "sJcDNaQHaoeS",
        "colab_type": "text"
      },
      "source": [
        "# conditional stmnts\n",
        "##1.if(single condition)\n",
        "##2.if-else(two conditions)\n",
        "##3.elif(multiple conditions)"
      ]
    },
    {
      "cell_type": "markdown",
      "metadata": {
        "id": "Yt63zMTcbbLU",
        "colab_type": "text"
      },
      "source": [
        "syntax:\n",
        "\n",
        "if: (//occupies one tab and called as induntation)\n",
        "  #### statements\n",
        "\n",
        "if-else stmnt:\n",
        "\n",
        "## if:\n",
        "  ### statemnt\n",
        "##else:\n",
        "##stmnt\n",
        "\n"
      ]
    },
    {
      "cell_type": "code",
      "metadata": {
        "id": "CMls4qnpcwhz",
        "colab_type": "code",
        "outputId": "7b7b6e61-bdb3-46cb-cd61-bfdcd7676d41",
        "colab": {
          "base_uri": "https://localhost:8080/",
          "height": 50
        }
      },
      "source": [
        "## even or odd\n",
        "n=int (input(\"enter a num\"))\n",
        "if n%2!=0:\n",
        "  print(\"odd\")\n",
        "else:\n",
        "  print(\"even\")"
      ],
      "execution_count": 0,
      "outputs": [
        {
          "output_type": "stream",
          "text": [
            "enter a num6\n",
            "even\n"
          ],
          "name": "stdout"
        }
      ]
    },
    {
      "cell_type": "code",
      "metadata": {
        "id": "0NiYc1aLe7iF",
        "colab_type": "code",
        "outputId": "75722a6b-8519-482b-a26d-bc42b8078977",
        "colab": {
          "base_uri": "https://localhost:8080/",
          "height": 50
        }
      },
      "source": [
        "##check for divisibility of 3 and 5\n",
        "n=int(input(\"enter a num\"))\n",
        "if n%3==0 and n%5==0:\n",
        "  print(\"divisible by 3 and 5\")\n",
        "else:\n",
        "  print(\"not divisible by 3 and 5\")\n",
        "  "
      ],
      "execution_count": 0,
      "outputs": [
        {
          "output_type": "stream",
          "text": [
            "enter a num15\n",
            "divisible by 3 and 5\n"
          ],
          "name": "stdout"
        }
      ]
    },
    {
      "cell_type": "markdown",
      "metadata": {
        "id": "xsQ469h8gtRN",
        "colab_type": "text"
      },
      "source": [
        "syntax:\n",
        "if condition1:\n",
        " ######  -stmnt\n",
        "elif condition2:\n",
        " ###### -stmnt\n",
        "elif condition3:\n",
        " ######-stmnt\n",
        "#.\n",
        "#.\n",
        "#.\n",
        "#.\n",
        "else:  \n",
        "######stmnts:\n",
        "\n"
      ]
    },
    {
      "cell_type": "code",
      "metadata": {
        "id": "af--m39FhbQ7",
        "colab_type": "code",
        "outputId": "20e13826-8aa4-48c4-b4ec-ce4b695fea76",
        "colab": {
          "base_uri": "https://localhost:8080/",
          "height": 50
        }
      },
      "source": [
        "#input a num and check whether a num is positive,negative or zero\n",
        "n=int(input('enter a num'))\n",
        "if n>0:\n",
        "  print(\"positive\")\n",
        "elif n<0:\n",
        "  print(\"negative\")\n",
        "else:\n",
        "  print(\"zero\")\n"
      ],
      "execution_count": 0,
      "outputs": [
        {
          "output_type": "stream",
          "text": [
            "enter a num0\n",
            "zero\n"
          ],
          "name": "stdout"
        }
      ]
    },
    {
      "cell_type": "code",
      "metadata": {
        "id": "Z93lWjgcjN1x",
        "colab_type": "code",
        "outputId": "f907b7e7-7052-409d-9e5c-c61a47149a77",
        "colab": {
          "base_uri": "https://localhost:8080/",
          "height": 34
        }
      },
      "source": [
        "## find leap year or not\n",
        "n=int(input(\"enter a year\"))\n",
        "if (n%400==0) or (n%100==0 and n%4==0):\n",
        "  print(\"a leap year\")\n"
      ],
      "execution_count": 0,
      "outputs": [
        {
          "output_type": "stream",
          "text": [
            "enter a year2020\n"
          ],
          "name": "stdout"
        }
      ]
    }
  ]
}