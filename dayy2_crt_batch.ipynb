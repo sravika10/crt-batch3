{
  "nbformat": 4,
  "nbformat_minor": 0,
  "metadata": {
    "colab": {
      "name": "dayy2 crt batch",
      "provenance": [],
      "collapsed_sections": []
    },
    "kernelspec": {
      "name": "python3",
      "display_name": "Python 3"
    }
  },
  "cells": [
    {
      "cell_type": "code",
      "metadata": {
        "id": "YgUtqay0qSIB",
        "colab_type": "code",
        "colab": {}
      },
      "source": [
        "# insert image as markdown\n"
      ],
      "execution_count": 0,
      "outputs": []
    },
    {
      "cell_type": "markdown",
      "metadata": {
        "id": "oXj6zxZ-shQz",
        "colab_type": "text"
      },
      "source": [
        "![](\"g![alt text](https://)itam logo.jfif)"
      ]
    },
    {
      "cell_type": "code",
      "metadata": {
        "id": "qbbv4poNvwHN",
        "colab_type": "code",
        "colab": {}
      },
      "source": [
        ""
      ],
      "execution_count": 0,
      "outputs": []
    },
    {
      "cell_type": "markdown",
      "metadata": {
        "id": "vMsT7pJ-v3w0",
        "colab_type": "text"
      },
      "source": [
        "![alt text](https://www.python.org/static/community_logos/python-logo-master-v3-TM.png)\n",
        "\n",
        "> Indented block\n",
        "\n"
      ]
    },
    {
      "cell_type": "code",
      "metadata": {
        "id": "vUKOxRUuv_Yp",
        "colab_type": "code",
        "colab": {}
      },
      "source": [
        "# insery link as markdown"
      ],
      "execution_count": 0,
      "outputs": []
    },
    {
      "cell_type": "markdown",
      "metadata": {
        "id": "gvXujXrmyAuE",
        "colab_type": "text"
      },
      "source": [
        "[Github](https://github.com/)"
      ]
    },
    {
      "cell_type": "markdown",
      "metadata": {
        "id": "_kwHARgiwEXA",
        "colab_type": "text"
      },
      "source": [
        "![](https://www.google.com/search?q=python+logo&sxsrf=ACYBGNTIHwlQY9-5EW3ou3Duf-5h1ZJFZQ:1577338485131&source=lnms&tbm=isch&sa=X&ved=2ahUKEwiH6OLgy9LmAhXTzjgGHeD_COQQ_AUoAXoECBAQAw&biw=1536&bih=754#imgrc=OO5BXHlBkMORMM:)"
      ]
    },
    {
      "cell_type": "code",
      "metadata": {
        "id": "sqZrchn3z_dV",
        "colab_type": "code",
        "colab": {}
      },
      "source": [
        "# loops\n",
        "\n"
      ],
      "execution_count": 0,
      "outputs": []
    },
    {
      "cell_type": "markdown",
      "metadata": {
        "id": "TMmv3Wcz0IcD",
        "colab_type": "text"
      },
      "source": [
        ""
      ]
    },
    {
      "cell_type": "markdown",
      "metadata": {
        "id": "DCjCcDGm0IgY",
        "colab_type": "text"
      },
      "source": [
        "# loops\n",
        "## 1.while loop\n",
        "### syntax:\n",
        "####-while condition:\n",
        "##### -stmnts\n",
        "\n",
        "\n",
        "## 2.for loop\n",
        "## syntax:\n",
        "#### for condition in \n",
        "\n"
      ]
    },
    {
      "cell_type": "code",
      "metadata": {
        "id": "tA5ztW9y1Tgi",
        "colab_type": "code",
        "outputId": "a7f7a245-941c-466d-b420-3a72048244b5",
        "colab": {
          "base_uri": "https://localhost:8080/",
          "height": 370
        }
      },
      "source": [
        "#print the num btw 1-20 using while loop:\n",
        "n=int(input(\"enter the num\"))\n",
        "i=1\n",
        "while i<=n:\n",
        "  print(i, end= \"\\n\")\n",
        "  i=i+1"
      ],
      "execution_count": 0,
      "outputs": [
        {
          "output_type": "stream",
          "text": [
            "enter the num20\n",
            "1\n",
            "2\n",
            "3\n",
            "4\n",
            "5\n",
            "6\n",
            "7\n",
            "8\n",
            "9\n",
            "10\n",
            "11\n",
            "12\n",
            "13\n",
            "14\n",
            "15\n",
            "16\n",
            "17\n",
            "18\n",
            "19\n",
            "20\n"
          ],
          "name": "stdout"
        }
      ]
    },
    {
      "cell_type": "code",
      "metadata": {
        "id": "qwDJCCDV2p81",
        "colab_type": "code",
        "outputId": "518c5ccf-568b-4827-f035-6fcb48a22a8b",
        "colab": {
          "base_uri": "https://localhost:8080/",
          "height": 50
        }
      },
      "source": [
        "#print the sum of even digits:\n",
        "n = int(input(\"enter the nums\"))\n",
        "sum=0\n",
        "i=0\n",
        "while i<=n:\n",
        "  if i%2==0:\n",
        "    sum = sum+i\n",
        "    i = i+1\n",
        "    print(sum)"
      ],
      "execution_count": 0,
      "outputs": [
        {
          "output_type": "stream",
          "text": [
            "enter the nums20\n",
            "0\n"
          ],
          "name": "stdout"
        }
      ]
    },
    {
      "cell_type": "markdown",
      "metadata": {
        "id": "jh9x6VIS5aUJ",
        "colab_type": "text"
      },
      "source": [
        "## 2.for loop\n",
        "#### syntax:\n",
        "   ##-stmnts\n",
        "   ##### for var_name in range():\n",
        "  ######-stmnts\n",
        "\n",
        "\n",
        "    for var_name in \n",
        "    -stmnts"
      ]
    },
    {
      "cell_type": "code",
      "metadata": {
        "id": "kcKdtsRb6r3r",
        "colab_type": "code",
        "colab": {}
      },
      "source": [
        "for i in range (1,10):\n",
        "print(i)"
      ],
      "execution_count": 0,
      "outputs": []
    },
    {
      "cell_type": "code",
      "metadata": {
        "id": "Ba9Xq2Uv74rw",
        "colab_type": "code",
        "outputId": "88a17b27-0058-4a76-c5ef-a14bf72e8f23",
        "colab": {
          "base_uri": "https://localhost:8080/",
          "height": 34
        }
      },
      "source": [
        "for i in range(1,11,2):\n",
        "  print(i,end =\" \")\n",
        "  "
      ],
      "execution_count": 0,
      "outputs": [
        {
          "output_type": "stream",
          "text": [
            "1 3 5 7 9 "
          ],
          "name": "stdout"
        }
      ]
    }
  ]
}